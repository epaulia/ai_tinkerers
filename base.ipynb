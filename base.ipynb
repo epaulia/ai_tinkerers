{
 "cells": [
  {
   "cell_type": "markdown",
   "id": "83138e78",
   "metadata": {},
   "source": [
    "# Sberbank Housing - Baseline Model\n",
    "\n",
    "Data source: https://www.kaggle.com/competitions/sberbank-russian-housing-market/data"
   ]
  },
  {
   "cell_type": "markdown",
   "id": "0lx4xadsrkd9",
   "metadata": {},
   "source": [
    "## Imports"
   ]
  },
  {
   "cell_type": "code",
   "execution_count": 33,
   "id": "c88114b8",
   "metadata": {},
   "outputs": [],
   "source": [
    "import pandas as pd\n",
    "import numpy as np\n",
    "from sklearn.model_selection import train_test_split\n",
    "from sklearn.linear_model import Ridge\n",
    "from sklearn.metrics import mean_squared_error\n",
    "import warnings\n",
    "warnings.filterwarnings('ignore')\n",
    "import matplotlib.pyplot as plt\n",
    "import seaborn as sns"
   ]
  },
  {
   "cell_type": "code",
   "execution_count": 34,
   "id": "c4753747",
   "metadata": {},
   "outputs": [
    {
     "data": {
      "application/vnd.microsoft.datawrangler.viewer.v0+json": {
       "columns": [
        {
         "name": "index",
         "rawType": "int64",
         "type": "integer"
        },
        {
         "name": "id",
         "rawType": "int64",
         "type": "integer"
        },
        {
         "name": "timestamp",
         "rawType": "object",
         "type": "string"
        },
        {
         "name": "price_doc",
         "rawType": "int64",
         "type": "integer"
        },
        {
         "name": "full_sq",
         "rawType": "int64",
         "type": "integer"
        },
        {
         "name": "life_sq",
         "rawType": "float64",
         "type": "float"
        },
        {
         "name": "kitch_sq",
         "rawType": "float64",
         "type": "float"
        },
        {
         "name": "floor",
         "rawType": "float64",
         "type": "float"
        },
        {
         "name": "max_floor",
         "rawType": "float64",
         "type": "float"
        },
        {
         "name": "build_year",
         "rawType": "float64",
         "type": "float"
        },
        {
         "name": "num_room",
         "rawType": "float64",
         "type": "float"
        },
        {
         "name": "state",
         "rawType": "float64",
         "type": "float"
        },
        {
         "name": "product_type",
         "rawType": "object",
         "type": "string"
        },
        {
         "name": "ecology",
         "rawType": "object",
         "type": "string"
        },
        {
         "name": "sub_area",
         "rawType": "object",
         "type": "string"
        },
        {
         "name": "raion_popul",
         "rawType": "int64",
         "type": "integer"
        },
        {
         "name": "kindergarten_km",
         "rawType": "float64",
         "type": "float"
        },
        {
         "name": "school_km",
         "rawType": "float64",
         "type": "float"
        },
        {
         "name": "park_km",
         "rawType": "float64",
         "type": "float"
        },
        {
         "name": "railroad_km",
         "rawType": "float64",
         "type": "float"
        },
        {
         "name": "metro_min_walk",
         "rawType": "float64",
         "type": "float"
        }
       ],
       "ref": "e2c70258-f4ba-417c-8aae-1680aa2aebac",
       "rows": [
        [
         "0",
         "1",
         "2011-08-20",
         "5850000",
         "43",
         "27.0",
         null,
         "4.0",
         null,
         null,
         null,
         null,
         "Investment",
         "good",
         "Bibirevo",
         "155572",
         "0.145699552",
         "0.17797535",
         "2.158587074",
         "1.305159492",
         "13.57511887"
        ],
        [
         "1",
         "2",
         "2011-08-23",
         "6000000",
         "34",
         "19.0",
         null,
         "3.0",
         null,
         null,
         null,
         null,
         "Investment",
         "excellent",
         "Nagatinskij Zaton",
         "115352",
         "0.147754269",
         "0.273345319",
         "0.550689737",
         "0.694535727",
         "7.620630408"
        ],
        [
         "2",
         "3",
         "2011-08-27",
         "5700000",
         "43",
         "29.0",
         null,
         "2.0",
         null,
         null,
         null,
         null,
         "Investment",
         "poor",
         "Tekstil'shhiki",
         "101708",
         "0.049101536",
         "0.158071895",
         "0.374847751",
         "0.70069112",
         "17.3515154"
        ],
        [
         "3",
         "4",
         "2011-09-01",
         "13100000",
         "89",
         "50.0",
         null,
         "9.0",
         null,
         null,
         null,
         null,
         "Investment",
         "good",
         "Mitino",
         "178473",
         "0.179440956",
         "0.236455018",
         "0.078090293",
         "1.999265421",
         "11.56562408"
        ],
        [
         "4",
         "5",
         "2011-09-05",
         "16331452",
         "77",
         "77.0",
         null,
         "4.0",
         null,
         null,
         null,
         null,
         "Investment",
         "excellent",
         "Basmannoe",
         "108171",
         "0.247901208",
         "0.376838057",
         "0.258288769",
         "0.084112545",
         "8.266305238"
        ]
       ],
       "shape": {
        "columns": 20,
        "rows": 5
       }
      },
      "text/html": [
       "<div>\n",
       "<style scoped>\n",
       "    .dataframe tbody tr th:only-of-type {\n",
       "        vertical-align: middle;\n",
       "    }\n",
       "\n",
       "    .dataframe tbody tr th {\n",
       "        vertical-align: top;\n",
       "    }\n",
       "\n",
       "    .dataframe thead th {\n",
       "        text-align: right;\n",
       "    }\n",
       "</style>\n",
       "<table border=\"1\" class=\"dataframe\">\n",
       "  <thead>\n",
       "    <tr style=\"text-align: right;\">\n",
       "      <th></th>\n",
       "      <th>id</th>\n",
       "      <th>timestamp</th>\n",
       "      <th>price_doc</th>\n",
       "      <th>full_sq</th>\n",
       "      <th>life_sq</th>\n",
       "      <th>kitch_sq</th>\n",
       "      <th>floor</th>\n",
       "      <th>max_floor</th>\n",
       "      <th>build_year</th>\n",
       "      <th>num_room</th>\n",
       "      <th>state</th>\n",
       "      <th>product_type</th>\n",
       "      <th>ecology</th>\n",
       "      <th>sub_area</th>\n",
       "      <th>raion_popul</th>\n",
       "      <th>kindergarten_km</th>\n",
       "      <th>school_km</th>\n",
       "      <th>park_km</th>\n",
       "      <th>railroad_km</th>\n",
       "      <th>metro_min_walk</th>\n",
       "    </tr>\n",
       "  </thead>\n",
       "  <tbody>\n",
       "    <tr>\n",
       "      <th>0</th>\n",
       "      <td>1</td>\n",
       "      <td>2011-08-20</td>\n",
       "      <td>5850000</td>\n",
       "      <td>43</td>\n",
       "      <td>27.0</td>\n",
       "      <td>NaN</td>\n",
       "      <td>4.0</td>\n",
       "      <td>NaN</td>\n",
       "      <td>NaN</td>\n",
       "      <td>NaN</td>\n",
       "      <td>NaN</td>\n",
       "      <td>Investment</td>\n",
       "      <td>good</td>\n",
       "      <td>Bibirevo</td>\n",
       "      <td>155572</td>\n",
       "      <td>0.145700</td>\n",
       "      <td>0.177975</td>\n",
       "      <td>2.158587</td>\n",
       "      <td>1.305159</td>\n",
       "      <td>13.575119</td>\n",
       "    </tr>\n",
       "    <tr>\n",
       "      <th>1</th>\n",
       "      <td>2</td>\n",
       "      <td>2011-08-23</td>\n",
       "      <td>6000000</td>\n",
       "      <td>34</td>\n",
       "      <td>19.0</td>\n",
       "      <td>NaN</td>\n",
       "      <td>3.0</td>\n",
       "      <td>NaN</td>\n",
       "      <td>NaN</td>\n",
       "      <td>NaN</td>\n",
       "      <td>NaN</td>\n",
       "      <td>Investment</td>\n",
       "      <td>excellent</td>\n",
       "      <td>Nagatinskij Zaton</td>\n",
       "      <td>115352</td>\n",
       "      <td>0.147754</td>\n",
       "      <td>0.273345</td>\n",
       "      <td>0.550690</td>\n",
       "      <td>0.694536</td>\n",
       "      <td>7.620630</td>\n",
       "    </tr>\n",
       "    <tr>\n",
       "      <th>2</th>\n",
       "      <td>3</td>\n",
       "      <td>2011-08-27</td>\n",
       "      <td>5700000</td>\n",
       "      <td>43</td>\n",
       "      <td>29.0</td>\n",
       "      <td>NaN</td>\n",
       "      <td>2.0</td>\n",
       "      <td>NaN</td>\n",
       "      <td>NaN</td>\n",
       "      <td>NaN</td>\n",
       "      <td>NaN</td>\n",
       "      <td>Investment</td>\n",
       "      <td>poor</td>\n",
       "      <td>Tekstil'shhiki</td>\n",
       "      <td>101708</td>\n",
       "      <td>0.049102</td>\n",
       "      <td>0.158072</td>\n",
       "      <td>0.374848</td>\n",
       "      <td>0.700691</td>\n",
       "      <td>17.351515</td>\n",
       "    </tr>\n",
       "    <tr>\n",
       "      <th>3</th>\n",
       "      <td>4</td>\n",
       "      <td>2011-09-01</td>\n",
       "      <td>13100000</td>\n",
       "      <td>89</td>\n",
       "      <td>50.0</td>\n",
       "      <td>NaN</td>\n",
       "      <td>9.0</td>\n",
       "      <td>NaN</td>\n",
       "      <td>NaN</td>\n",
       "      <td>NaN</td>\n",
       "      <td>NaN</td>\n",
       "      <td>Investment</td>\n",
       "      <td>good</td>\n",
       "      <td>Mitino</td>\n",
       "      <td>178473</td>\n",
       "      <td>0.179441</td>\n",
       "      <td>0.236455</td>\n",
       "      <td>0.078090</td>\n",
       "      <td>1.999265</td>\n",
       "      <td>11.565624</td>\n",
       "    </tr>\n",
       "    <tr>\n",
       "      <th>4</th>\n",
       "      <td>5</td>\n",
       "      <td>2011-09-05</td>\n",
       "      <td>16331452</td>\n",
       "      <td>77</td>\n",
       "      <td>77.0</td>\n",
       "      <td>NaN</td>\n",
       "      <td>4.0</td>\n",
       "      <td>NaN</td>\n",
       "      <td>NaN</td>\n",
       "      <td>NaN</td>\n",
       "      <td>NaN</td>\n",
       "      <td>Investment</td>\n",
       "      <td>excellent</td>\n",
       "      <td>Basmannoe</td>\n",
       "      <td>108171</td>\n",
       "      <td>0.247901</td>\n",
       "      <td>0.376838</td>\n",
       "      <td>0.258289</td>\n",
       "      <td>0.084113</td>\n",
       "      <td>8.266305</td>\n",
       "    </tr>\n",
       "  </tbody>\n",
       "</table>\n",
       "</div>"
      ],
      "text/plain": [
       "   id   timestamp  price_doc  full_sq  life_sq  kitch_sq  floor  max_floor  \\\n",
       "0   1  2011-08-20    5850000       43     27.0       NaN    4.0        NaN   \n",
       "1   2  2011-08-23    6000000       34     19.0       NaN    3.0        NaN   \n",
       "2   3  2011-08-27    5700000       43     29.0       NaN    2.0        NaN   \n",
       "3   4  2011-09-01   13100000       89     50.0       NaN    9.0        NaN   \n",
       "4   5  2011-09-05   16331452       77     77.0       NaN    4.0        NaN   \n",
       "\n",
       "   build_year  num_room  state product_type    ecology           sub_area  \\\n",
       "0         NaN       NaN    NaN   Investment       good           Bibirevo   \n",
       "1         NaN       NaN    NaN   Investment  excellent  Nagatinskij Zaton   \n",
       "2         NaN       NaN    NaN   Investment       poor     Tekstil'shhiki   \n",
       "3         NaN       NaN    NaN   Investment       good             Mitino   \n",
       "4         NaN       NaN    NaN   Investment  excellent          Basmannoe   \n",
       "\n",
       "   raion_popul  kindergarten_km  school_km   park_km  railroad_km  \\\n",
       "0       155572         0.145700   0.177975  2.158587     1.305159   \n",
       "1       115352         0.147754   0.273345  0.550690     0.694536   \n",
       "2       101708         0.049102   0.158072  0.374848     0.700691   \n",
       "3       178473         0.179441   0.236455  0.078090     1.999265   \n",
       "4       108171         0.247901   0.376838  0.258289     0.084113   \n",
       "\n",
       "   metro_min_walk  \n",
       "0       13.575119  \n",
       "1        7.620630  \n",
       "2       17.351515  \n",
       "3       11.565624  \n",
       "4        8.266305  "
      ]
     },
     "execution_count": 34,
     "metadata": {},
     "output_type": "execute_result"
    }
   ],
   "source": [
    "# Load data\n",
    "house_data = pd.read_csv(r\"data/sberbank_housing.csv\", index_col=0, low_memory=False)\n",
    "\n",
    "house_data.head()"
   ]
  },
  {
   "cell_type": "code",
   "execution_count": 35,
   "id": "a6839cba",
   "metadata": {},
   "outputs": [
    {
     "name": "stdout",
     "output_type": "stream",
     "text": [
      "<class 'pandas.core.frame.DataFrame'>\n",
      "Index: 27000 entries, 0 to 26999\n",
      "Data columns (total 20 columns):\n",
      " #   Column           Non-Null Count  Dtype  \n",
      "---  ------           --------------  -----  \n",
      " 0   id               27000 non-null  int64  \n",
      " 1   timestamp        27000 non-null  object \n",
      " 2   price_doc        27000 non-null  int64  \n",
      " 3   full_sq          27000 non-null  int64  \n",
      " 4   life_sq          21463 non-null  float64\n",
      " 5   kitch_sq         17428 non-null  float64\n",
      " 6   floor            26833 non-null  float64\n",
      " 7   max_floor        17428 non-null  float64\n",
      " 8   build_year       14131 non-null  float64\n",
      " 9   num_room         17428 non-null  float64\n",
      " 10  state            13933 non-null  float64\n",
      " 11  product_type     27000 non-null  object \n",
      " 12  ecology          27000 non-null  object \n",
      " 13  sub_area         27000 non-null  object \n",
      " 14  raion_popul      27000 non-null  int64  \n",
      " 15  kindergarten_km  27000 non-null  float64\n",
      " 16  school_km        27000 non-null  float64\n",
      " 17  park_km          27000 non-null  float64\n",
      " 18  railroad_km      27000 non-null  float64\n",
      " 19  metro_min_walk   26986 non-null  float64\n",
      "dtypes: float64(12), int64(4), object(4)\n",
      "memory usage: 4.3+ MB\n"
     ]
    }
   ],
   "source": [
    "house_data.info()"
   ]
  },
  {
   "cell_type": "markdown",
   "id": "7bcada89",
   "metadata": {},
   "source": [
    "## Load Data & Initial Exploration"
   ]
  },
  {
   "cell_type": "code",
   "execution_count": 36,
   "id": "b952cbec",
   "metadata": {},
   "outputs": [],
   "source": [
    "# Clean column names\n",
    "house_data.columns = [c.lower().strip().replace(\" \", \"_\") for c in house_data.columns]\n",
    "\n",
    "# Drop non-predictive columns\n",
    "house_data = house_data.drop(columns=[\"timestamp\", \"id\"])"
   ]
  },
  {
   "cell_type": "markdown",
   "id": "769ba800",
   "metadata": {},
   "source": [
    "## Categorical Features Overview\n",
    "\n",
    "Examine categorical columns to determine encoding strategy based on cardinality."
   ]
  },
  {
   "cell_type": "code",
   "execution_count": 37,
   "id": "3ge05ekp8ru",
   "metadata": {},
   "outputs": [
    {
     "name": "stdout",
     "output_type": "stream",
     "text": [
      "\n",
      "Categorical columns: 3\n",
      "============================================================\n",
      "\n",
      "product_type: [LOW cardinality]\n",
      "  Unique values: 2\n",
      "  Missing: 0 (0.0%)\n",
      "  Top 5 values:\n",
      "product_type\n",
      "    Investment       17542\n",
      "    OwnerOccupier     9458\n",
      "\n",
      "ecology: [LOW cardinality]\n",
      "  Unique values: 5\n",
      "  Missing: 0 (0.0%)\n",
      "  Top 5 values:\n",
      "ecology\n",
      "    poor            7215\n",
      "    no data         6570\n",
      "    good            6548\n",
      "    excellent       3419\n",
      "    satisfactory    3248\n",
      "\n",
      "sub_area: [HIGH cardinality]\n",
      "  Unique values: 146\n",
      "  Missing: 0 (0.0%)\n",
      "  Top 5 values:\n",
      "sub_area\n",
      "    Nekrasovka                 1540\n",
      "    Poselenie Sosenskoe        1522\n",
      "    Poselenie Vnukovskoe       1048\n",
      "    Poselenie Moskovskij        807\n",
      "    Poselenie Voskresenskoe     693\n",
      "\n",
      "============================================================\n",
      "\n",
      "Encoding Strategy:\n",
      "  LOW cardinality (<10 unique)  → One-Hot Encoding: ['product_type', 'ecology']\n",
      "  HIGH cardinality (≥10 unique) → Frequency Encoding: ['sub_area']\n",
      "============================================================\n"
     ]
    }
   ],
   "source": [
    "# Identify categorical columns\n",
    "categorical_cols = house_data.select_dtypes(include=['object']).columns.tolist()\n",
    "\n",
    "print(f\"\\nCategorical columns: {len(categorical_cols)}\")\n",
    "print(\"=\"*60)\n",
    "\n",
    "# Initialize lists for cardinality-based categorization\n",
    "low_card = []\n",
    "high_card = []\n",
    "cardinality_threshold = 10\n",
    "\n",
    "for col in categorical_cols:\n",
    "    n_unique = house_data[col].nunique()\n",
    "    n_missing = house_data[col].isna().sum()\n",
    "    missing_pct = (n_missing / len(house_data)) * 100\n",
    "    \n",
    "    # Categorize based on cardinality\n",
    "    if n_unique < cardinality_threshold:\n",
    "        low_card.append(col)\n",
    "        cardinality_label = \"LOW\"\n",
    "    else:\n",
    "        high_card.append(col)\n",
    "        cardinality_label = \"HIGH\"\n",
    "    \n",
    "    print(f\"\\n{col}: [{cardinality_label} cardinality]\")\n",
    "    print(f\"  Unique values: {n_unique}\")\n",
    "    print(f\"  Missing: {n_missing} ({missing_pct:.1f}%)\")\n",
    "    print(f\"  Top 5 values:\")\n",
    "    print(house_data[col].value_counts().head(5).to_string().replace('\\n', '\\n    '))\n",
    "\n",
    "print(\"\\n\" + \"=\"*60)\n",
    "print(\"\\nEncoding Strategy:\")\n",
    "print(f\"  LOW cardinality (<{cardinality_threshold} unique)  → One-Hot Encoding: {low_card}\")\n",
    "print(f\"  HIGH cardinality (≥{cardinality_threshold} unique) → Frequency Encoding: {high_card}\")\n",
    "print(\"=\"*60)"
   ]
  },
  {
   "cell_type": "markdown",
   "id": "61798485",
   "metadata": {},
   "source": [
    "## Target Distribution Analysis\n",
    "\n",
    "**Why check target distribution?**\n",
    "\n",
    "1. **Normality Assumption**: Linear regression assumes residuals follow a bell-shaped curve distribution\n",
    "2. **Homoscedasticity**: Residuals should be scattered randomly with no patterns\n",
    "\n",
    "Target distribution is one of the biggest factors affecting both assumptions.\n",
    "\n",
    "**Goal**: Homoscedastic + Normal residuals (IDEAL)"
   ]
  },
  {
   "cell_type": "code",
   "execution_count": 38,
   "id": "96005ded",
   "metadata": {},
   "outputs": [
    {
     "data": {
      "image/png": "[encoded data removed]",
      "text/plain": [
       "<Figure size 1000x600 with 1 Axes>"
      ]
     },
     "metadata": {},
     "output_type": "display_data"
    }
   ],
   "source": [
    "# Visualize the distribution of our target variable (house prices)\n",
    "house_data[\"price_doc\"].hist(bins=50, figsize=(10, 6))\n",
    "plt.title(\"Distribution of House Prices (Original Scale)\")\n",
    "plt.xlabel(\"Price (Rubles)\")\n",
    "plt.ylabel(\"Frequency\")\n",
    "plt.show()"
   ]
  },
  {
   "cell_type": "code",
   "execution_count": 39,
   "id": "478d2c96",
   "metadata": {},
   "outputs": [],
   "source": [
    "# Let's apply log transfrom to the target variable to reduce skewness\n",
    "house_data[\"price_doc\"] = np.log1p(house_data[\"price_doc\"])"
   ]
  },
  {
   "cell_type": "markdown",
   "id": "87856d32",
   "metadata": {},
   "source": [
    "## Train-Test Split\n",
    "\n",
    "Split strategy: 80% training, 20% testing"
   ]
  },
  {
   "cell_type": "code",
   "execution_count": 40,
   "id": "5b704fbf",
   "metadata": {},
   "outputs": [
    {
     "name": "stdout",
     "output_type": "stream",
     "text": [
      "Training set: (21600, 17)\n",
      "Test set: (5400, 17)\n"
     ]
    }
   ],
   "source": [
    "X = house_data.drop(\"price_doc\", axis=1)\n",
    "y = house_data[\"price_doc\"]\n",
    "\n",
    "X_train, X_test, y_train, y_test = train_test_split(\n",
    "    X, y, test_size=0.2, random_state=42\n",
    ")\n",
    "\n",
    "print(f\"Training set: {X_train.shape}\")\n",
    "print(f\"Test set: {X_test.shape}\")"
   ]
  },
  {
   "cell_type": "markdown",
   "id": "gmtikls0o76",
   "metadata": {},
   "source": [
    "## Apply Categorical Encoding"
   ]
  },
  {
   "cell_type": "code",
   "execution_count": 42,
   "id": "hsvhj0xhn3",
   "metadata": {},
   "outputs": [
    {
     "name": "stdout",
     "output_type": "stream",
     "text": [
      "One-hot encoded 2 low-cardinality features: ['product_type', 'ecology']\n",
      "New one-hot features names: ['product_type_OwnerOccupier' 'ecology_good' 'ecology_no data'\n",
      " 'ecology_poor' 'ecology_satisfactory']\n",
      "Frequency encoded 1 high-cardinality features: ['sub_area']\n",
      "\n",
      "Final shape after encoding:\n",
      "  Training set: (21600, 20)\n",
      "  Test set: (5400, 20)\n"
     ]
    }
   ],
   "source": [
    "from sklearn.preprocessing import OneHotEncoder\n",
    "\n",
    "# One-hot encode low cardinality columns (using lists from earlier)\n",
    "\n",
    "#ohe = OneHotEncoder(drop='first', sparse_output=False, handle_unknown='ignore', handle_missing='use_encoded_value')\n",
    "ohe = OneHotEncoder(drop='first', sparse_output=False, handle_unknown='ignore')\n",
    "ohe.fit(X_train[low_card])\n",
    "\n",
    "# Transform both\n",
    "X_train_ohe = ohe.transform(X_train[low_card])\n",
    "X_test_ohe = ohe.transform(X_test[low_card])\n",
    "\n",
    "# Convert to DataFrames with proper column names\n",
    "ohe_cols = ohe.get_feature_names_out(low_card)\n",
    "X_train_ohe_df = pd.DataFrame(X_train_ohe, columns=ohe_cols, index=X_train.index)\n",
    "X_test_ohe_df = pd.DataFrame(X_test_ohe, columns=ohe_cols, index=X_test.index)\n",
    "X_train[ohe_cols] = X_train_ohe_df\n",
    "X_test[ohe_cols] = X_test_ohe_df\n",
    "\n",
    "# Drop originals\n",
    "X_train.drop(columns=low_card, inplace=True)\n",
    "X_test.drop(columns=low_card, inplace=True)\n",
    "\n",
    "print(f\"One-hot encoded {len([c for c in low_card if c in X.columns])} low-cardinality features: {[c for c in low_card if c in X.columns]}\")\n",
    "print(f\"New one-hot features names: {ohe_cols}\")\n",
    "\n",
    "# Frequency encode high cardinality columns\n",
    "high_card_in_data = [c for c in high_card if c in X_train.columns]\n",
    "if high_card_in_data:\n",
    "    for col in high_card_in_data:\n",
    "        # Calculate frequency encoding from training set\n",
    "        freq_map = X_train[col].value_counts(normalize=True).to_dict()\n",
    "        \n",
    "        # Apply to both train and test\n",
    "        X_train[f'{col}_freq'] = X_train[col].map(freq_map).fillna(0)\n",
    "        X_test[f'{col}_freq'] = X_test[col].map(freq_map).fillna(0)\n",
    "        \n",
    "        # Drop original categorical column\n",
    "        X_train = X_train.drop(columns=[col])\n",
    "        X_test = X_test.drop(columns=[col])\n",
    "    \n",
    "    print(f\"Frequency encoded {len(high_card_in_data)} high-cardinality features: {high_card_in_data}\")\n",
    "\n",
    "print(f\"\\nFinal shape after encoding:\")\n",
    "print(f\"  Training set: {X_train.shape}\")\n",
    "print(f\"  Test set: {X_test.shape}\")"
   ]
  },
  {
   "cell_type": "markdown",
   "id": "fd004721",
   "metadata": {},
   "source": [
    "## Baseline Model with Categorical Encoding\n",
    "\n",
    "Uses complete numeric columns plus one-hot encoded low cardinality categorical features."
   ]
  },
  {
   "cell_type": "code",
   "execution_count": 43,
   "id": "230b4f9c",
   "metadata": {},
   "outputs": [
    {
     "name": "stdout",
     "output_type": "stream",
     "text": [
      "Features used: 20 (numeric + encoded categorical)\n"
     ]
    }
   ],
   "source": [
    "# Use all numeric columns (including encoded categoricals) with simple median imputation\n",
    "from sklearn.impute import SimpleImputer\n",
    "\n",
    "# Get all numeric columns\n",
    "numeric_cols = X_train.select_dtypes(include=[np.number]).columns.tolist()\n",
    "\n",
    "# Simple median imputation for missing values\n",
    "imputer = SimpleImputer(strategy='median')\n",
    "X_train_imputed = imputer.fit_transform(X_train[numeric_cols])\n",
    "X_test_imputed = imputer.transform(X_test[numeric_cols])\n",
    "\n",
    "# Train baseline model\n",
    "baseline_model = Ridge(random_state=42)\n",
    "baseline_model.fit(X_train_imputed, y_train)\n",
    "\n",
    "# Predictions\n",
    "baseline_pred = baseline_model.predict(X_test_imputed)\n",
    "\n",
    "print(f\"Features used: {len(numeric_cols)} (numeric + encoded categorical)\")"
   ]
  },
  {
   "cell_type": "code",
   "execution_count": 44,
   "id": "6429e49e",
   "metadata": {},
   "outputs": [],
   "source": [
    "# Calculate metrics on log scale\n",
    "baseline_rmse = np.sqrt(mean_squared_error(y_test, baseline_pred))\n",
    "\n",
    "# Convert back to dollar scale for interpretation\n",
    "baseline_pred_dollars = np.expm1(baseline_pred)\n",
    "y_test_dollars = np.expm1(y_test)\n",
    "baseline_rmse_dollars = np.sqrt(mean_squared_error(y_test_dollars, baseline_pred_dollars))\n",
    "\n",
    "residuals = y_test - baseline_pred"
   ]
  },
  {
   "cell_type": "code",
   "execution_count": 45,
   "id": "97cff0a5",
   "metadata": {},
   "outputs": [
    {
     "name": "stdout",
     "output_type": "stream",
     "text": [
      "   RMSE: 0.525 (log scale)\n",
      "   RMSE: 5626709.440 (rubles scale)\n"
     ]
    }
   ],
   "source": [
    "print(f\"   RMSE: {baseline_rmse:.3f} (log scale)\")\n",
    "\n",
    "baseline_rmse_dollars = np.sqrt(mean_squared_error(y_test_dollars, baseline_pred_dollars))\n",
    "print(f\"   RMSE: {baseline_rmse_dollars:.3f} (rubles scale)\")"
   ]
  },
  {
   "cell_type": "code",
   "execution_count": 15,
   "id": "843c1247",
   "metadata": {},
   "outputs": [],
   "source": [
    "# # Calculate residuals\n",
    "# residuals = y_test - baseline_pred\n",
    "\n",
    "# # 1. Check homoscedasticity\n",
    "# plt.figure(figsize=(12, 5))\n",
    "\n",
    "# plt.subplot(1, 2, 1)\n",
    "# plt.scatter(baseline_pred, residuals, alpha=0.6)\n",
    "# plt.xlabel(\"Fitted Values (Predictions)\")\n",
    "# plt.ylabel(\"Residuals\")\n",
    "# plt.title(\"Residuals vs Fitted\")\n",
    "# plt.axhline(y=0, color='red', linestyle='--')\n",
    "\n",
    "# # 2. Check normality of residuals\n",
    "# plt.subplot(1, 2, 2)\n",
    "# from scipy import stats\n",
    "# stats.probplot(residuals, dist=\"norm\", plot=plt)\n",
    "# plt.title(\"Q-Q Plot - Residual Normality\")\n",
    "\n",
    "# plt.tight_layout()\n",
    "# plt.show()"
   ]
  },
  {
   "cell_type": "markdown",
   "id": "0ng2upscn7a",
   "metadata": {},
   "source": [
    "## Save Baseline for Comparison"
   ]
  },
  {
   "cell_type": "code",
   "execution_count": 46,
   "id": "f7f60fc4",
   "metadata": {},
   "outputs": [],
   "source": [
    "# save our baseline model's rmse to compare later\n",
    "baseline_rmse_dollars = str(np.sqrt(mean_squared_error(y_test_dollars, baseline_pred_dollars)))\n",
    "with open(\"baseline_rmse.txt\",\"w\") as f:\n",
    "    f.write(baseline_rmse_dollars)\n",
    "    f.flush()"
   ]
  }
 ],
 "metadata": {
  "kernelspec": {
   "display_name": "ml",
   "language": "python",
   "name": "python3"
  },
  "language_info": {
   "codemirror_mode": {
    "name": "ipython",
    "version": 3
   },
   "file_extension": ".py",
   "mimetype": "text/x-python",
   "name": "python",
   "nbconvert_exporter": "python",
   "pygments_lexer": "ipython3",
   "version": "3.10.17"
  }
 },
 "nbformat": 4,
 "nbformat_minor": 5
}
